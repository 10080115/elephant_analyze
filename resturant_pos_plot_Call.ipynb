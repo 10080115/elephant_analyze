{
 "cells": [
  {
   "cell_type": "code",
   "execution_count": 9,
   "id": "0ba649d1",
   "metadata": {},
   "outputs": [],
   "source": [
    "import pandas as pd\n",
    "\n",
    "%run resturant_Function.ipynb"
   ]
  },
  {
   "cell_type": "code",
   "execution_count": 10,
   "id": "976c9433",
   "metadata": {},
   "outputs": [],
   "source": [
    "order_file_path='./data/PNH_3.1-3.7.xlsx'\n",
    "restaurant_file_path='./data/resturuant.xlsx'"
   ]
  },
  {
   "cell_type": "code",
   "execution_count": 11,
   "id": "00485449",
   "metadata": {},
   "outputs": [
    {
     "name": "stdout",
     "output_type": "stream",
     "text": [
      "每个餐厅编号中订单数量最多的数据处理完成\n",
      "保存成功: resturant_pos_plot_station_10032.html\n",
      "保存成功: resturant_pos_plot_station_10033.html\n",
      "保存成功: resturant_pos_plot_station_10034.html\n",
      "保存成功: resturant_pos_plot_station_10051.html\n"
     ]
    }
   ],
   "source": [
    "# 处理取消率和区域划分数量\n",
    "merged_df = process_cancel_rate_and_counts(order_file_path)\n",
    "# print(\"取消率和区域划分数量处理完成\",merged_df)\n",
    "merged_df.to_excel('./data/Restaurant_features.xlsx')\n",
    "\n",
    "# 处理每个餐厅编号中订单数量最多的数据\n",
    "filtered_data_combined = process_most_orders_per_restaurant(order_file_path)\n",
    "print(\"每个餐厅编号中订单数量最多的数据处理完成\")\n",
    "\n",
    "all_station_data = process_station_data(filtered_data_combined, merged_df)\n",
    "# print(\"所有站点数据\",all_station_data )\n",
    "\n",
    "draw_map(all_station_data, merged_df)"
   ]
  },
  {
   "cell_type": "code",
   "execution_count": null,
   "id": "e5f51abd",
   "metadata": {},
   "outputs": [],
   "source": []
  }
 ],
 "metadata": {
  "kernelspec": {
   "display_name": "Python 3",
   "language": "python",
   "name": "python3"
  },
  "language_info": {
   "codemirror_mode": {
    "name": "ipython",
    "version": 3
   },
   "file_extension": ".py",
   "mimetype": "text/x-python",
   "name": "python",
   "nbconvert_exporter": "python",
   "pygments_lexer": "ipython3",
   "version": "3.6.8"
  }
 },
 "nbformat": 4,
 "nbformat_minor": 5
}
